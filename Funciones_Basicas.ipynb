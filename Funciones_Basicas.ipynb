{
  "nbformat": 4,
  "nbformat_minor": 0,
  "metadata": {
    "colab": {
      "provenance": [],
      "authorship_tag": "ABX9TyPGkleDSMJPh2FgpFZ/gWdw",
      "include_colab_link": true
    },
    "kernelspec": {
      "name": "python3",
      "display_name": "Python 3"
    },
    "language_info": {
      "name": "python"
    }
  },
  "cells": [
    {
      "cell_type": "markdown",
      "metadata": {
        "id": "view-in-github",
        "colab_type": "text"
      },
      "source": [
        "<a href=\"https://colab.research.google.com/github/jctuiran/clases_python/blob/main/Funciones_Basicas.ipynb\" target=\"_parent\"><img src=\"https://colab.research.google.com/assets/colab-badge.svg\" alt=\"Open In Colab\"/></a>"
      ]
    },
    {
      "cell_type": "code",
      "execution_count": 1,
      "metadata": {
        "id": "VWXLZwgfi3Fj",
        "colab": {
          "base_uri": "https://localhost:8080/"
        },
        "outputId": "4f506c08-c009-4b3e-9741-71ae1f11afa4"
      },
      "outputs": [
        {
          "output_type": "stream",
          "name": "stdout",
          "text": [
            "Programa que hace esto con 2 Numero\n",
            "Suma,Resta,Multiplica,Divide,Módulo y Compara\n",
            "Ingrese el Primer Número:10\n",
            "Ingrese el Segundo Número:5\n",
            "La Suma de 10 mas 5 es: 15\n",
            "La Resta de 10 menos 5 es: 5\n",
            "La Multiplicación de 10 por 5 es: 50\n",
            "La División de 10 entre 5 es: 2.0\n",
            "El Residuo de 10 entre 5 es: 0\n",
            "El mayor entre 10 y 5 es: 10\n"
          ]
        }
      ],
      "source": [
        "\"\"\"\n",
        "PROGRAMA QUE LLAMA A LAS FUNCIONES QUE ESTÁN EN EL ARCHIVO\n",
        "FUNCIONES.PY\n",
        "\"\"\"\n",
        "import funciones as fu\n",
        "\n",
        "print(\"Programa que hace esto con 2 Numero\")\n",
        "print(\"Suma,Resta,Multiplica,Divide,Módulo y Compara\")\n",
        "x = int(input(\"Ingrese el Primer Número:\"))\n",
        "y = int(input(\"Ingrese el Segundo Número:\"))\n",
        "\n",
        "suma=fu.Sumar(x,y)\n",
        "resta=fu.Restar(x,y)\n",
        "multi=fu.Multiplicar(x,y)\n",
        "divi=fu.Dividir(x,y)\n",
        "residuo=fu.Residuo(x,y)\n",
        "mayor=fu.Mayor(x,y)\n",
        "\n",
        "\n",
        "print(\"La Suma de\",x,\"mas\",y,\"es:\",suma)\n",
        "print(\"La Resta de\",x,\"menos\",y,\"es:\",resta)\n",
        "print(\"La Multiplicación de\",x,\"por\",y,\"es:\",multi)\n",
        "print(\"La División de\",x,\"entre\",y,\"es:\",divi)\n",
        "print(\"El Residuo de\",x,\"entre\",y,\"es:\",residuo)\n",
        "print(\"El mayor entre\", x, \"y\",y, \"es:\",mayor)\n",
        "\n",
        "# fu.pedir_datos() Se puede utilizar para Pedir los Datos"
      ]
    }
  ]
}